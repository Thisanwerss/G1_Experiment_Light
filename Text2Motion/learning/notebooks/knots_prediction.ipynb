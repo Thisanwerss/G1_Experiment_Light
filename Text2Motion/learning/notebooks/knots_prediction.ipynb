{
 "cells": [
  {
   "cell_type": "markdown",
   "id": "4ad66f65-55fb-4da5-884c-56e4ec54f6d8",
   "metadata": {},
   "source": [
    "# Imports"
   ]
  },
  {
   "cell_type": "code",
   "execution_count": 1,
   "id": "4228726e-8a75-4aea-b3da-82199927043d",
   "metadata": {},
   "outputs": [],
   "source": [
    "# General + Pytorch training\n",
    "import os\n",
    "import torch\n",
    "import wandb\n",
    "import pickle\n",
    "import numpy as np\n",
    "import torch.nn as nn\n",
    "import torch.optim as optim\n",
    "import pytorch_lightning as pl\n",
    "import torch.nn.functional as F\n",
    "from pytorch_lightning.loggers import WandbLogger\n",
    "from scipy.spatial.transform import Rotation as R\n",
    "from sklearn.model_selection import train_test_split\n",
    "from torch.utils.data import DataLoader, TensorDataset\n",
    "from pytorch_lightning.callbacks import ModelCheckpoint, EarlyStopping\n",
    "from sklearn.metrics import mean_squared_error, mean_absolute_error, r2_score"
   ]
  },
  {
   "cell_type": "code",
   "execution_count": 2,
   "id": "5c3f4775-b640-4347-b27a-a750acfeea7a",
   "metadata": {},
   "outputs": [
    {
     "name": "stderr",
     "output_type": "stream",
     "text": [
      "Seed set to 42\n"
     ]
    },
    {
     "data": {
      "text/plain": [
       "42"
      ]
     },
     "execution_count": 2,
     "metadata": {},
     "output_type": "execute_result"
    }
   ],
   "source": [
    "seed = 42\n",
    "pl.seed_everything(seed)"
   ]
  },
  {
   "cell_type": "markdown",
   "id": "ad48e438-d975-44a5-bccc-09040ba54354",
   "metadata": {},
   "source": [
    "# Settings"
   ]
  },
  {
   "cell_type": "code",
   "execution_count": 3,
   "id": "9e27375d-f116-45ec-9848-4baae6017779",
   "metadata": {},
   "outputs": [],
   "source": [
    "# Set the float32 matmul precision for Tensor Cores\n",
    "torch.set_float32_matmul_precision('high')"
   ]
  },
  {
   "cell_type": "markdown",
   "id": "bbb523f4-c406-4cbf-86e5-0e619d0baddb",
   "metadata": {},
   "source": [
    "# Load Data"
   ]
  },
  {
   "cell_type": "code",
   "execution_count": 4,
   "id": "25067663-6ee1-4095-90c9-3d3742d2f108",
   "metadata": {},
   "outputs": [],
   "source": [
    "from pathlib import Path\n",
    "import pickle\n",
    "\n",
    "ep_path = Path(\"../../episode_data\")\n",
    "episodes = []\n",
    "\n",
    "for file in ep_path.glob(\"*.pkl\"):  # Use \"*.pickle\" if your files use that extension\n",
    "    with open(file, \"rb\") as f:\n",
    "        episode = pickle.load(f)\n",
    "        episodes.append(episode)"
   ]
  },
  {
   "cell_type": "code",
   "execution_count": 5,
   "id": "c1a76e01-b8a4-4495-9933-1db76462cd3a",
   "metadata": {},
   "outputs": [
    {
     "data": {
      "text/plain": [
       "3"
      ]
     },
     "execution_count": 5,
     "metadata": {},
     "output_type": "execute_result"
    }
   ],
   "source": [
    "len(episodes)"
   ]
  },
  {
   "cell_type": "code",
   "execution_count": 6,
   "id": "c9a42c9a-e2d4-48b3-aaf4-ecdc2f1472c8",
   "metadata": {},
   "outputs": [],
   "source": [
    "import numpy as np\n",
    "\n",
    "X = []\n",
    "Y = []\n",
    "\n",
    "for episode in episodes:  # assuming episodes is a list of loaded pickles\n",
    "    knots_list = episode[\"knots\"]\n",
    "    \n",
    "    for kinfo in knots_list:\n",
    "        # Build input (concatenate position and velocity)\n",
    "        x = np.concatenate([kinfo[\"qpos\"], kinfo[\"qvel\"]], axis=0)\n",
    "\n",
    "        # Build output (flattened knot vector)\n",
    "        y = kinfo[\"knots\"].reshape(-1)\n",
    "\n",
    "        X.append(x)\n",
    "        Y.append(y)\n",
    "\n",
    "X = np.array(X)\n",
    "Y = np.array(Y)"
   ]
  },
  {
   "cell_type": "code",
   "execution_count": 7,
   "id": "4914fc0c-84a9-489d-ad75-2654d72cc685",
   "metadata": {},
   "outputs": [
    {
     "data": {
      "text/plain": [
       "(18465, 95)"
      ]
     },
     "execution_count": 7,
     "metadata": {},
     "output_type": "execute_result"
    }
   ],
   "source": [
    "X.shape"
   ]
  },
  {
   "cell_type": "code",
   "execution_count": 8,
   "id": "75b8d8c7-f12c-4b09-90e1-b1c5df89ad29",
   "metadata": {},
   "outputs": [
    {
     "data": {
      "text/plain": [
       "(18465, 164)"
      ]
     },
     "execution_count": 8,
     "metadata": {},
     "output_type": "execute_result"
    }
   ],
   "source": [
    "Y.shape"
   ]
  },
  {
   "cell_type": "code",
   "execution_count": 9,
   "id": "67ad28dd-0c80-4153-8d36-6c17cd32d1a7",
   "metadata": {},
   "outputs": [],
   "source": [
    "# Convert to torch\n",
    "X_t = torch.from_numpy(X).float()\n",
    "Y_t = torch.from_numpy(Y).float()"
   ]
  },
  {
   "cell_type": "markdown",
   "id": "1ee55da4-1d0a-4717-a84b-0ac5712c7dd0",
   "metadata": {},
   "source": [
    "# MLP Regressor"
   ]
  },
  {
   "cell_type": "code",
   "execution_count": 10,
   "id": "f289f0d4-d75a-43ab-9b3a-c5236ea14666",
   "metadata": {},
   "outputs": [],
   "source": [
    "class MLPRegressor(pl.LightningModule):\n",
    "    def __init__(self, input_dim, hidden_dim1, hidden_dim2, hidden_dim3, output_dim=1, learning_rate=1e-3):\n",
    "        super().__init__()\n",
    "        self.model = nn.Sequential(\n",
    "            nn.Linear(input_dim, hidden_dim1),\n",
    "            nn.BatchNorm1d(hidden_dim1),\n",
    "            nn.ReLU(),\n",
    "            \n",
    "            nn.Linear(hidden_dim1, hidden_dim2),\n",
    "            nn.BatchNorm1d(hidden_dim2),\n",
    "            nn.ReLU(),\n",
    "            \n",
    "            nn.Linear(hidden_dim2, hidden_dim3),\n",
    "            nn.BatchNorm1d(hidden_dim3),\n",
    "            nn.ReLU(),\n",
    "            \n",
    "            nn.Linear(hidden_dim3, output_dim)\n",
    "        )\n",
    "        self.test_outputs = []\n",
    "        self.criterion = nn.MSELoss()\n",
    "        self.learning_rate = learning_rate\n",
    "\n",
    "    def forward(self, x):\n",
    "        return self.model(x)\n",
    "\n",
    "    def training_step(self, batch, batch_idx):\n",
    "        x, y = batch\n",
    "        y = y.squeeze(1)\n",
    "        y_hat = self(x)\n",
    "        loss = self.criterion(y_hat, y)\n",
    "        self.log('train_loss', loss)\n",
    "        return loss\n",
    "\n",
    "    def validation_step(self, batch, batch_idx):\n",
    "        x, y = batch\n",
    "        y = y.squeeze(1)\n",
    "        y_hat = self(x)\n",
    "        loss = self.criterion(y_hat, y)\n",
    "        self.log('val_loss', loss)\n",
    "        return loss\n",
    "\n",
    "    def test_step(self, batch, batch_idx):\n",
    "        x, y = batch\n",
    "        y = y.squeeze(1)\n",
    "        y_hat = self(x)\n",
    "        self.test_outputs.append({'y_hat': y_hat, 'y': y})\n",
    "        return {'y_hat': y_hat, 'y': y}\n",
    "\n",
    "    def on_test_epoch_end(self):\n",
    "        y_hat = torch.cat([o['y_hat'] for o in self.test_outputs], dim=0).cpu().numpy()\n",
    "        y = torch.cat([o['y'] for o in self.test_outputs], dim=0).cpu().numpy()\n",
    "\n",
    "        # Flatten if needed: remove extra dimensions\n",
    "        y_hat = y_hat.squeeze()\n",
    "        y = y.squeeze()\n",
    "\n",
    "        # If they're still 3D, reshape explicitly\n",
    "        if y_hat.ndim > 2:\n",
    "            y_hat = y_hat.reshape(y_hat.shape[0], -1)\n",
    "        if y.ndim > 2:\n",
    "            y = y.reshape(y.shape[0], -1)\n",
    "        \n",
    "        mse = mean_squared_error(y, y_hat)\n",
    "        mae = mean_absolute_error(y, y_hat)\n",
    "        r2 = r2_score(y, y_hat)\n",
    "        self.log('test_mse', mse)\n",
    "        self.log('test_mae', mae)\n",
    "        self.log('test_r2', r2)\n",
    "        print(f'Test MSE: {mse}, MAE: {mae}, R2: {r2}')\n",
    "        self.test_outputs.clear()\n",
    "\n",
    "    def configure_optimizers(self):\n",
    "        optimizer = torch.optim.Adam(self.parameters(), lr=self.learning_rate)\n",
    "        scheduler = torch.optim.lr_scheduler.ReduceLROnPlateau(optimizer, factor = 0.75, patience=5, mode = 'min', cooldown = 2, min_lr = 10e-7)\n",
    "        optimizer_dict = {\"optimizer\": optimizer, \"lr_scheduler\": scheduler, \"monitor\": \"val_loss\"}\n",
    "        return optimizer_dict"
   ]
  },
  {
   "cell_type": "markdown",
   "id": "43aae8e6-c97a-4618-b650-c03cc3814636",
   "metadata": {},
   "source": [
    "# Training"
   ]
  },
  {
   "cell_type": "code",
   "execution_count": 11,
   "id": "f2794a16-af83-4b33-b68d-f5f5f771b2aa",
   "metadata": {},
   "outputs": [],
   "source": [
    "def load_data(inputs, outputs, batch_size=32, num_workers=10):\n",
    "    X_train, X_temp, y_train, y_temp = train_test_split(inputs, outputs, test_size=0.1, random_state=seed)\n",
    "    X_val, X_test, y_val, y_test = train_test_split(X_temp, y_temp, test_size=0.5, random_state=seed)\n",
    "\n",
    "    train_dataset = TensorDataset(torch.Tensor(X_train), torch.Tensor(y_train).unsqueeze(1))\n",
    "    val_dataset = TensorDataset(torch.Tensor(X_val), torch.Tensor(y_val).unsqueeze(1))\n",
    "    test_dataset = TensorDataset(torch.Tensor(X_test), torch.Tensor(y_test).unsqueeze(1))\n",
    "    \n",
    "    # train_loader = DataLoader(train_dataset, batch_size=batch_size, shuffle=True, num_workers=num_workers, drop_last=True)\n",
    "    # val_loader = DataLoader(val_dataset, batch_size=batch_size, num_workers=num_workers, drop_last=True)\n",
    "    # test_loader = DataLoader(test_dataset, batch_size=batch_size, num_workers=num_workers, drop_last=True)\n",
    "\n",
    "    train_loader = DataLoader(train_dataset, batch_size=batch_size, shuffle=True, num_workers=num_workers)\n",
    "    val_loader = DataLoader(val_dataset, batch_size=batch_size, num_workers=num_workers)\n",
    "    test_loader = DataLoader(test_dataset, batch_size=batch_size, num_workers=num_workers)\n",
    "    \n",
    "    return train_loader, val_loader, test_loader"
   ]
  },
  {
   "cell_type": "code",
   "execution_count": 12,
   "id": "2f74d21a-395c-4c2f-9dbd-d47e604e17f9",
   "metadata": {},
   "outputs": [],
   "source": [
    "# Define sweep configuration\n",
    "sweep_config = {\n",
    "    'method': 'grid',\n",
    "    'metric': {\n",
    "        'name': 'val_loss',\n",
    "        'goal': 'minimize'\n",
    "    },\n",
    "    'parameters': {\n",
    "        'hidden_dim1': {'values': [512]},\n",
    "        'hidden_dim2': {'values': [512]},\n",
    "        'hidden_dim3': {'values': [512]},\n",
    "        'learning_rate': {'values': [1e-3]}\n",
    "    }\n",
    "}"
   ]
  },
  {
   "cell_type": "code",
   "execution_count": 13,
   "id": "0023b1e2-3896-45a5-91f3-73db8f99edd9",
   "metadata": {},
   "outputs": [],
   "source": [
    "# def save_model_as_pt(model, checkpoint_path, save_path):\n",
    "#     # Load the best model checkpoint\n",
    "#     checkpoint = torch.load(checkpoint_path)\n",
    "#     model.load_state_dict(checkpoint['state_dict'])\n",
    "    \n",
    "#     # Save the model with torch script\n",
    "#     model.eval()\n",
    "#     model_compiled = torch.jit.script(model)\n",
    "#     torch.jit.save(model_compiled, save_path)\n",
    "#     print(f'Model saved to {save_path}')\n",
    "\n",
    "def save_model_state_dict(model, checkpoint_path, save_path):\n",
    "    # Load the best model checkpoint\n",
    "    checkpoint = torch.load(checkpoint_path)\n",
    "    model.load_state_dict(checkpoint['state_dict'])\n",
    "    \n",
    "    # Save only the state_dict (weights)\n",
    "    torch.save(model.state_dict(), save_path)\n",
    "    print(f'Model state_dict saved to {save_path}')"
   ]
  },
  {
   "cell_type": "code",
   "execution_count": 14,
   "id": "bb622474-ebb8-43e5-8526-2ba7f0e65c28",
   "metadata": {},
   "outputs": [],
   "source": [
    "def train_model(config=None):\n",
    "    with wandb.init(config=config):\n",
    "        config = wandb.config\n",
    "\n",
    "        model = MLPRegressor(\n",
    "            input_dim=X_t.shape[1],\n",
    "            hidden_dim1=config.hidden_dim1,\n",
    "            hidden_dim2=config.hidden_dim2,\n",
    "            hidden_dim3=config.hidden_dim3,\n",
    "            output_dim=Y_t.shape[1],\n",
    "            learning_rate=config.learning_rate\n",
    "        )\n",
    "        \n",
    "        train_loader, val_loader, test_loader = load_data(X_t, Y_t, batch_size=512, num_workers=10)\n",
    "\n",
    "        # Define ModelCheckpoint callback to save the best model\n",
    "        checkpoint_callback = ModelCheckpoint(\n",
    "            monitor='val_loss',\n",
    "            dirpath='./knots_prediction_checkpoints',\n",
    "            filename='model-{epoch:02d}-{val_loss:.6f}',\n",
    "            save_top_k=1,\n",
    "            mode='min'\n",
    "        )\n",
    "\n",
    "        trainer = pl.Trainer(\n",
    "            logger=WandbLogger(),\n",
    "            max_epochs=1000,\n",
    "            accelerator='gpu',\n",
    "            devices=1,\n",
    "            enable_progress_bar=False,  # Suppress the progress bar\n",
    "            log_every_n_steps=5,  # Adjust logging frequency\n",
    "            callbacks=[checkpoint_callback, EarlyStopping(monitor='val_loss', patience=5)]\n",
    "        )\n",
    "        \n",
    "        trainer.fit(model, train_loader, val_loader)\n",
    "        trainer.test(model, dataloaders=test_loader)\n",
    "\n",
    "        # Save the best model as .pt file\n",
    "        best_checkpoint_path = checkpoint_callback.best_model_path\n",
    "        save_path = best_checkpoint_path.replace('.ckpt', '.pt')\n",
    "        save_model_state_dict(model, best_checkpoint_path, save_path)"
   ]
  },
  {
   "cell_type": "code",
   "execution_count": 15,
   "id": "e46d38a7-38fc-4622-a221-79707c5419a9",
   "metadata": {},
   "outputs": [
    {
     "name": "stderr",
     "output_type": "stream",
     "text": [
      "\u001b[34m\u001b[1mwandb\u001b[0m: Currently logged in as: \u001b[33mitaouil\u001b[0m to \u001b[32mhttps://api.wandb.ai\u001b[0m. Use \u001b[1m`wandb login --relogin`\u001b[0m to force relogin\n"
     ]
    },
    {
     "data": {
      "text/html": [
       "Tracking run with wandb version 0.20.1"
      ],
      "text/plain": [
       "<IPython.core.display.HTML object>"
      ]
     },
     "metadata": {},
     "output_type": "display_data"
    },
    {
     "data": {
      "text/html": [
       "Run data is saved locally in <code>/home/ilyass/workspace/Text2Motion/learning/notebooks/wandb/run-20250703_133144-pi40me45</code>"
      ],
      "text/plain": [
       "<IPython.core.display.HTML object>"
      ]
     },
     "metadata": {},
     "output_type": "display_data"
    },
    {
     "data": {
      "text/html": [
       "Syncing run <strong><a href='https://wandb.ai/itaouil/knots_prediction/runs/pi40me45' target=\"_blank\">clear-aardvark-13</a></strong> to <a href='https://wandb.ai/itaouil/knots_prediction' target=\"_blank\">Weights & Biases</a> (<a href='https://wandb.me/developer-guide' target=\"_blank\">docs</a>)<br>"
      ],
      "text/plain": [
       "<IPython.core.display.HTML object>"
      ]
     },
     "metadata": {},
     "output_type": "display_data"
    },
    {
     "data": {
      "text/html": [
       " View project at <a href='https://wandb.ai/itaouil/knots_prediction' target=\"_blank\">https://wandb.ai/itaouil/knots_prediction</a>"
      ],
      "text/plain": [
       "<IPython.core.display.HTML object>"
      ]
     },
     "metadata": {},
     "output_type": "display_data"
    },
    {
     "data": {
      "text/html": [
       " View run at <a href='https://wandb.ai/itaouil/knots_prediction/runs/pi40me45' target=\"_blank\">https://wandb.ai/itaouil/knots_prediction/runs/pi40me45</a>"
      ],
      "text/plain": [
       "<IPython.core.display.HTML object>"
      ]
     },
     "metadata": {},
     "output_type": "display_data"
    },
    {
     "name": "stderr",
     "output_type": "stream",
     "text": [
      "\u001b[34m\u001b[1mwandb\u001b[0m: \u001b[33mWARNING\u001b[0m Calling wandb.login() after wandb.init() has no effect.\n"
     ]
    },
    {
     "name": "stdout",
     "output_type": "stream",
     "text": [
      "Create sweep with ID: i802zqwg\n",
      "Sweep URL: https://wandb.ai/itaouil/knots_prediction/sweeps/i802zqwg\n"
     ]
    },
    {
     "name": "stderr",
     "output_type": "stream",
     "text": [
      "\u001b[34m\u001b[1mwandb\u001b[0m: Agent Starting Run: 61uepuif with config:\n",
      "\u001b[34m\u001b[1mwandb\u001b[0m: \thidden_dim1: 512\n",
      "\u001b[34m\u001b[1mwandb\u001b[0m: \thidden_dim2: 512\n",
      "\u001b[34m\u001b[1mwandb\u001b[0m: \thidden_dim3: 512\n",
      "\u001b[34m\u001b[1mwandb\u001b[0m: \tlearning_rate: 0.001\n"
     ]
    },
    {
     "name": "stdout",
     "output_type": "stream",
     "text": [
      "\u001b[1;34mwandb\u001b[0m: \n",
      "\u001b[1;34mwandb\u001b[0m: 🚀 View run \u001b[33mclear-aardvark-13\u001b[0m at: \u001b[34mhttps://wandb.ai/itaouil/knots_prediction/runs/pi40me45\u001b[0m\n",
      "\u001b[1;34mwandb\u001b[0m: Find logs at: \u001b[1;35mwandb/run-20250703_133144-pi40me45/logs\u001b[0m\n"
     ]
    },
    {
     "data": {
      "text/html": [
       "Tracking run with wandb version 0.20.1"
      ],
      "text/plain": [
       "<IPython.core.display.HTML object>"
      ]
     },
     "metadata": {},
     "output_type": "display_data"
    },
    {
     "data": {
      "text/html": [
       "Run data is saved locally in <code>/home/ilyass/workspace/Text2Motion/learning/notebooks/wandb/run-20250703_133147-61uepuif</code>"
      ],
      "text/plain": [
       "<IPython.core.display.HTML object>"
      ]
     },
     "metadata": {},
     "output_type": "display_data"
    },
    {
     "data": {
      "text/html": [
       "Syncing run <strong><a href='https://wandb.ai/itaouil/knots_prediction/runs/61uepuif' target=\"_blank\">royal-sweep-1</a></strong> to <a href='https://wandb.ai/itaouil/knots_prediction' target=\"_blank\">Weights & Biases</a> (<a href='https://wandb.me/developer-guide' target=\"_blank\">docs</a>)<br>Sweep page: <a href='https://wandb.ai/itaouil/knots_prediction/sweeps/i802zqwg' target=\"_blank\">https://wandb.ai/itaouil/knots_prediction/sweeps/i802zqwg</a>"
      ],
      "text/plain": [
       "<IPython.core.display.HTML object>"
      ]
     },
     "metadata": {},
     "output_type": "display_data"
    },
    {
     "data": {
      "text/html": [
       " View project at <a href='https://wandb.ai/itaouil/knots_prediction' target=\"_blank\">https://wandb.ai/itaouil/knots_prediction</a>"
      ],
      "text/plain": [
       "<IPython.core.display.HTML object>"
      ]
     },
     "metadata": {},
     "output_type": "display_data"
    },
    {
     "data": {
      "text/html": [
       " View sweep at <a href='https://wandb.ai/itaouil/knots_prediction/sweeps/i802zqwg' target=\"_blank\">https://wandb.ai/itaouil/knots_prediction/sweeps/i802zqwg</a>"
      ],
      "text/plain": [
       "<IPython.core.display.HTML object>"
      ]
     },
     "metadata": {},
     "output_type": "display_data"
    },
    {
     "data": {
      "text/html": [
       " View run at <a href='https://wandb.ai/itaouil/knots_prediction/runs/61uepuif' target=\"_blank\">https://wandb.ai/itaouil/knots_prediction/runs/61uepuif</a>"
      ],
      "text/plain": [
       "<IPython.core.display.HTML object>"
      ]
     },
     "metadata": {},
     "output_type": "display_data"
    },
    {
     "name": "stderr",
     "output_type": "stream",
     "text": [
      "GPU available: True (cuda), used: True\n",
      "TPU available: False, using: 0 TPU cores\n",
      "HPU available: False, using: 0 HPUs\n",
      "/home/ilyass/mambaforge/envs/hydrax/lib/python3.12/site-packages/pytorch_lightning/loggers/wandb.py:397: There is a wandb run already in progress and newly created instances of `WandbLogger` will reuse this run. If this is not desired, call `wandb.finish()` before instantiating `WandbLogger`.\n",
      "LOCAL_RANK: 0 - CUDA_VISIBLE_DEVICES: [0]\n",
      "\n",
      "  | Name      | Type       | Params | Mode \n",
      "-------------------------------------------------\n",
      "0 | model     | Sequential | 661 K  | train\n",
      "1 | criterion | MSELoss    | 0      | train\n",
      "-------------------------------------------------\n",
      "661 K     Trainable params\n",
      "0         Non-trainable params\n",
      "661 K     Total params\n",
      "2.647     Total estimated model params size (MB)\n",
      "12        Modules in train mode\n",
      "0         Modules in eval mode\n",
      "LOCAL_RANK: 0 - CUDA_VISIBLE_DEVICES: [0]\n"
     ]
    },
    {
     "name": "stdout",
     "output_type": "stream",
     "text": [
      "Test MSE: 0.003671003971248865, MAE: 0.044652439653873444, R2: 0.7124336361885071\n"
     ]
    },
    {
     "data": {
      "text/html": [
       "<pre style=\"white-space:pre;overflow-x:auto;line-height:normal;font-family:Menlo,'DejaVu Sans Mono',consolas,'Courier New',monospace\">┏━━━━━━━━━━━━━━━━━━━━━━━━━━━┳━━━━━━━━━━━━━━━━━━━━━━━━━━━┓\n",
       "┃<span style=\"font-weight: bold\">        Test metric        </span>┃<span style=\"font-weight: bold\">       DataLoader 0        </span>┃\n",
       "┡━━━━━━━━━━━━━━━━━━━━━━━━━━━╇━━━━━━━━━━━━━━━━━━━━━━━━━━━┩\n",
       "│<span style=\"color: #008080; text-decoration-color: #008080\">         test_mae          </span>│<span style=\"color: #800080; text-decoration-color: #800080\">   0.044652439653873444    </span>│\n",
       "│<span style=\"color: #008080; text-decoration-color: #008080\">         test_mse          </span>│<span style=\"color: #800080; text-decoration-color: #800080\">   0.003671003971248865    </span>│\n",
       "│<span style=\"color: #008080; text-decoration-color: #008080\">          test_r2          </span>│<span style=\"color: #800080; text-decoration-color: #800080\">    0.7124336361885071     </span>│\n",
       "└───────────────────────────┴───────────────────────────┘\n",
       "</pre>\n"
      ],
      "text/plain": [
       "┏━━━━━━━━━━━━━━━━━━━━━━━━━━━┳━━━━━━━━━━━━━━━━━━━━━━━━━━━┓\n",
       "┃\u001b[1m \u001b[0m\u001b[1m       Test metric       \u001b[0m\u001b[1m \u001b[0m┃\u001b[1m \u001b[0m\u001b[1m      DataLoader 0       \u001b[0m\u001b[1m \u001b[0m┃\n",
       "┡━━━━━━━━━━━━━━━━━━━━━━━━━━━╇━━━━━━━━━━━━━━━━━━━━━━━━━━━┩\n",
       "│\u001b[36m \u001b[0m\u001b[36m        test_mae         \u001b[0m\u001b[36m \u001b[0m│\u001b[35m \u001b[0m\u001b[35m  0.044652439653873444   \u001b[0m\u001b[35m \u001b[0m│\n",
       "│\u001b[36m \u001b[0m\u001b[36m        test_mse         \u001b[0m\u001b[36m \u001b[0m│\u001b[35m \u001b[0m\u001b[35m  0.003671003971248865   \u001b[0m\u001b[35m \u001b[0m│\n",
       "│\u001b[36m \u001b[0m\u001b[36m         test_r2         \u001b[0m\u001b[36m \u001b[0m│\u001b[35m \u001b[0m\u001b[35m   0.7124336361885071    \u001b[0m\u001b[35m \u001b[0m│\n",
       "└───────────────────────────┴───────────────────────────┘\n"
      ]
     },
     "metadata": {},
     "output_type": "display_data"
    },
    {
     "name": "stdout",
     "output_type": "stream",
     "text": [
      "Model state_dict saved to /home/ilyass/workspace/Text2Motion/learning/notebooks/knots_prediction_checkpoints/model-epoch=72-val_loss=0.003503.pt\n"
     ]
    },
    {
     "data": {
      "text/html": [],
      "text/plain": [
       "<IPython.core.display.HTML object>"
      ]
     },
     "metadata": {},
     "output_type": "display_data"
    },
    {
     "data": {
      "text/html": [
       "<br>    <style><br>        .wandb-row {<br>            display: flex;<br>            flex-direction: row;<br>            flex-wrap: wrap;<br>            justify-content: flex-start;<br>            width: 100%;<br>        }<br>        .wandb-col {<br>            display: flex;<br>            flex-direction: column;<br>            flex-basis: 100%;<br>            flex: 1;<br>            padding: 10px;<br>        }<br>    </style><br><div class=\"wandb-row\"><div class=\"wandb-col\"><h3>Run history:</h3><br/><table class=\"wandb\"><tr><td>epoch</td><td>▁▁▁▁▁▂▂▂▂▂▂▃▃▃▃▄▄▄▄▄▄▄▄▄▅▅▅▅▅▅▆▆▆▇▇█████</td></tr><tr><td>test_mae</td><td>▁</td></tr><tr><td>test_mse</td><td>▁</td></tr><tr><td>test_r2</td><td>▁</td></tr><tr><td>train_loss</td><td>█▇▅▃▂▂▂▂▁▁▁▁▁▁▁▁▁▁▁▁▁▁▁▁▁▁▁▁▁▁▁▁▁▁▁▁▁▁▁▁</td></tr><tr><td>trainer/global_step</td><td>▁▁▁▂▂▂▂▃▃▃▃▃▃▃▃▃▄▄▄▄▅▅▅▅▅▅▆▆▆▆▇▇▇▇▇▇▇███</td></tr><tr><td>val_loss</td><td>█▄▂▂▁▁▁▁▁▁▁▁▁▁▁▁▁▁▁▁▁▁▁▁▁▁▁▁▁▁▁▁▁▁▁▁▁▁▁▁</td></tr></table><br/></div><div class=\"wandb-col\"><h3>Run summary:</h3><br/><table class=\"wandb\"><tr><td>epoch</td><td>78</td></tr><tr><td>test_mae</td><td>0.04465</td></tr><tr><td>test_mse</td><td>0.00367</td></tr><tr><td>test_r2</td><td>0.71243</td></tr><tr><td>train_loss</td><td>0.00285</td></tr><tr><td>trainer/global_step</td><td>2574</td></tr><tr><td>val_loss</td><td>0.00369</td></tr></table><br/></div></div>"
      ],
      "text/plain": [
       "<IPython.core.display.HTML object>"
      ]
     },
     "metadata": {},
     "output_type": "display_data"
    },
    {
     "data": {
      "text/html": [
       " View run <strong style=\"color:#cdcd00\">royal-sweep-1</strong> at: <a href='https://wandb.ai/itaouil/knots_prediction/runs/61uepuif' target=\"_blank\">https://wandb.ai/itaouil/knots_prediction/runs/61uepuif</a><br> View project at: <a href='https://wandb.ai/itaouil/knots_prediction' target=\"_blank\">https://wandb.ai/itaouil/knots_prediction</a><br>Synced 5 W&B file(s), 0 media file(s), 0 artifact file(s) and 0 other file(s)"
      ],
      "text/plain": [
       "<IPython.core.display.HTML object>"
      ]
     },
     "metadata": {},
     "output_type": "display_data"
    },
    {
     "data": {
      "text/html": [
       "Find logs at: <code>./wandb/run-20250703_133147-61uepuif/logs</code>"
      ],
      "text/plain": [
       "<IPython.core.display.HTML object>"
      ]
     },
     "metadata": {},
     "output_type": "display_data"
    },
    {
     "name": "stderr",
     "output_type": "stream",
     "text": [
      "\u001b[34m\u001b[1mwandb\u001b[0m: Sweep Agent: Waiting for job.\n",
      "\u001b[34m\u001b[1mwandb\u001b[0m: Sweep Agent: Exiting.\n"
     ]
    }
   ],
   "source": [
    "# Initialize wandb\n",
    "wandb.init(project='knots_prediction')\n",
    "\n",
    "# # Shut down previous sessions\n",
    "# wandb.finish()\n",
    "\n",
    "sweep_id = wandb.sweep(sweep_config, project='knots_prediction')\n",
    "\n",
    "# Run the sweep\n",
    "wandb.agent(sweep_id, function=train_model)"
   ]
  },
  {
   "cell_type": "code",
   "execution_count": null,
   "id": "9368ebcd-c56f-4f35-92a3-693257472aa5",
   "metadata": {},
   "outputs": [],
   "source": []
  }
 ],
 "metadata": {
  "kernelspec": {
   "display_name": "Python 3 (ipykernel)",
   "language": "python",
   "name": "python3"
  },
  "language_info": {
   "codemirror_mode": {
    "name": "ipython",
    "version": 3
   },
   "file_extension": ".py",
   "mimetype": "text/x-python",
   "name": "python",
   "nbconvert_exporter": "python",
   "pygments_lexer": "ipython3",
   "version": "3.12.3"
  }
 },
 "nbformat": 4,
 "nbformat_minor": 5
}
